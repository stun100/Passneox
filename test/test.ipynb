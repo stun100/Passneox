{
 "cells": [
  {
   "cell_type": "code",
   "execution_count": 4,
   "id": "88c5bd43",
   "metadata": {},
   "outputs": [],
   "source": [
    "import torch\n",
    "from torch.distributions import Gumbel\n",
    "\n",
    "gumbel_distr = Gumbel(torch.tensor([0.,0.]),1)"
   ]
  },
  {
   "cell_type": "code",
   "execution_count": 3,
   "id": "c493f0a5",
   "metadata": {},
   "outputs": [
    {
     "data": {
      "text/plain": [
       "tensor([[1, 1, 1, 1],\n",
       "        [2, 2, 2, 2],\n",
       "        [3, 3, 3, 3]])"
      ]
     },
     "execution_count": 3,
     "metadata": {},
     "output_type": "execute_result"
    }
   ],
   "source": [
    "x = gumbel_distr.sample()\n",
    "x"
   ]
  },
  {
   "cell_type": "code",
   "execution_count": 21,
   "id": "5473e537",
   "metadata": {},
   "outputs": [],
   "source": [
    "Z = -float('inf')"
   ]
  },
  {
   "cell_type": "code",
   "execution_count": null,
   "id": "5fb731c5",
   "metadata": {},
   "outputs": [
    {
     "data": {
      "text/plain": [
       "tensor([-inf])"
      ]
     },
     "execution_count": 29,
     "metadata": {},
     "output_type": "execute_result"
    }
   ],
   "source": [
    "y_s_prime = torch.cat([seq, torch.tensor([[token_id]])], dim=1)"
   ]
  },
  {
   "cell_type": "code",
   "execution_count": 32,
   "id": "bf72bc3f",
   "metadata": {},
   "outputs": [
    {
     "data": {
      "text/plain": [
       "torch.Size([1, 5])"
      ]
     },
     "execution_count": 32,
     "metadata": {},
     "output_type": "execute_result"
    }
   ],
   "source": [
    "seq = torch.tensor([[1, 2, 3, 4, 5]])\n",
    "seq.shape\n"
   ]
  },
  {
   "cell_type": "code",
   "execution_count": 35,
   "id": "2eeb5b89",
   "metadata": {},
   "outputs": [
    {
     "data": {
      "text/plain": [
       "torch.Size([52000])"
      ]
     },
     "execution_count": 35,
     "metadata": {},
     "output_type": "execute_result"
    }
   ],
   "source": [
    "V = 52000\n",
    "tokens = torch.ones((V,))\n",
    "tokens.shape"
   ]
  },
  {
   "cell_type": "code",
   "execution_count": null,
   "id": "929f7423",
   "metadata": {},
   "outputs": [],
   "source": []
  },
  {
   "cell_type": "code",
   "execution_count": null,
   "id": "58af4897",
   "metadata": {},
   "outputs": [],
   "source": [
    "seq  1\n",
    "seq  2\n",
    "seq  3\n",
    "seq  4"
   ]
  },
  {
   "cell_type": "code",
   "execution_count": 42,
   "id": "e26f43d4",
   "metadata": {},
   "outputs": [
    {
     "name": "stdout",
     "output_type": "stream",
     "text": [
      "tensor([[1., 2., 3., 4., 5., 1.],\n",
      "        [1., 2., 3., 4., 5., 1.],\n",
      "        [1., 2., 3., 4., 5., 1.],\n",
      "        ...,\n",
      "        [1., 2., 3., 4., 5., 1.],\n",
      "        [1., 2., 3., 4., 5., 1.],\n",
      "        [1., 2., 3., 4., 5., 1.]])\n"
     ]
    }
   ],
   "source": [
    "import torch\n",
    "\n",
    "seq = torch.tensor([[1, 2, 3, 4, 5]])  # Shape: (1, 5)\n",
    "V = 52000\n",
    "tokens = torch.ones((V,))             # Shape: (52000,)\n",
    "\n",
    "# Choose how many tokens you want to stack with\n",
    "N = 4  # For example, use first 4 tokens\n",
    "\n",
    "# Repeat seq N times and reshape\n",
    "seq_repeated = seq.repeat(V, 1)       # Shape: (N, 5)\n",
    "\n",
    "# Select N tokens and reshape to column vector\n",
    "tokens_slice = tokens.unsqueeze(1)  # Shape: (N, 1)\n",
    "\n",
    "# Concatenate along last dimension\n",
    "stacked = torch.cat([seq_repeated, tokens_slice], dim=1)  # Shape: (N, 6)\n",
    "\n",
    "print(stacked)\n"
   ]
  },
  {
   "cell_type": "code",
   "execution_count": 32,
   "id": "d29df743",
   "metadata": {},
   "outputs": [
    {
     "data": {
      "text/plain": [
       "tensor([1.2462, 1.1979,   -inf])"
      ]
     },
     "execution_count": 32,
     "metadata": {},
     "output_type": "execute_result"
    }
   ],
   "source": [
    "torch.cat((x, torch.tensor([Z])))"
   ]
  },
  {
   "cell_type": "code",
   "execution_count": 33,
   "id": "8b5f58f2",
   "metadata": {},
   "outputs": [
    {
     "name": "stdout",
     "output_type": "stream",
     "text": [
      "tensor(1.2462)\n"
     ]
    }
   ],
   "source": [
    "max_value = torch.max(torch.cat((x, torch.tensor([Z]))))\n",
    "print(max_value)"
   ]
  },
  {
   "cell_type": "code",
   "execution_count": 43,
   "id": "a85f2e75",
   "metadata": {},
   "outputs": [
    {
     "name": "stdout",
     "output_type": "stream",
     "text": [
      "torch.Size([52000, 6, 1, 1])\n"
     ]
    }
   ],
   "source": [
    "import torch\n",
    "\n",
    "V = 52000\n",
    "A = torch.randn(V, 4)          # (V, 4)\n",
    "B = torch.arange(V).float()    # (V,)\n",
    "C = torch.arange(1000, V+1000).float()  # (V,)\n",
    "\n",
    "# Stack B and C into (V, 2)\n",
    "BC = torch.stack([B, C], dim=1)  # (V, 2)\n",
    "\n",
    "# Concatenate with A\n",
    "merged = torch.cat([A, BC], dim=1)  # (V, 6)\n",
    "\n",
    "# Reshape to (V, 6, 1, 1)\n",
    "final = merged.unsqueeze(2).unsqueeze(3)  # (V, 6, 1, 1)\n",
    "\n",
    "print(final.shape)  # torch.Size([52000, 6, 1, 1])\n"
   ]
  },
  {
   "cell_type": "code",
   "execution_count": 47,
   "id": "e9cce9f8",
   "metadata": {},
   "outputs": [
    {
     "ename": "TypeError",
     "evalue": "expected Tensor as element 0 in argument 0, but got list",
     "output_type": "error",
     "traceback": [
      "\u001b[1;31m---------------------------------------------------------------------------\u001b[0m",
      "\u001b[1;31mTypeError\u001b[0m                                 Traceback (most recent call last)",
      "Cell \u001b[1;32mIn[47], line 2\u001b[0m\n\u001b[0;32m      1\u001b[0m x \u001b[38;5;241m=\u001b[39m [[torch\u001b[38;5;241m.\u001b[39mtensor([\u001b[38;5;241m1\u001b[39m, \u001b[38;5;241m2\u001b[39m, \u001b[38;5;241m3\u001b[39m])],[ torch\u001b[38;5;241m.\u001b[39mtensor([\u001b[38;5;241m4\u001b[39m, \u001b[38;5;241m5\u001b[39m, \u001b[38;5;241m6\u001b[39m])]]\n\u001b[1;32m----> 2\u001b[0m \u001b[43mtorch\u001b[49m\u001b[38;5;241;43m.\u001b[39;49m\u001b[43mstack\u001b[49m\u001b[43m(\u001b[49m\u001b[43mx\u001b[49m\u001b[43m)\u001b[49m\u001b[38;5;241m.\u001b[39mshape\n",
      "\u001b[1;31mTypeError\u001b[0m: expected Tensor as element 0 in argument 0, but got list"
     ]
    }
   ],
   "source": [
    "x = [[torch.tensor([1, 2, 3])],[ torch.tensor([4, 5, 6])]]\n",
    "torch.stack(x).shape"
   ]
  },
  {
   "cell_type": "code",
   "execution_count": 60,
   "id": "057da795",
   "metadata": {},
   "outputs": [
    {
     "ename": "RuntimeError",
     "evalue": "stack expects each tensor to be equal size, but got [52000, 5] at entry 0 and [52000, 1] at entry 1",
     "output_type": "error",
     "traceback": [
      "\u001b[1;31m---------------------------------------------------------------------------\u001b[0m",
      "\u001b[1;31mRuntimeError\u001b[0m                              Traceback (most recent call last)",
      "Cell \u001b[1;32mIn[60], line 5\u001b[0m\n\u001b[0;32m      2\u001b[0m b \u001b[38;5;241m=\u001b[39m torch\u001b[38;5;241m.\u001b[39mzeros((\u001b[38;5;241m52000\u001b[39m,\u001b[38;5;241m1\u001b[39m))\n\u001b[0;32m      3\u001b[0m c \u001b[38;5;241m=\u001b[39m torch\u001b[38;5;241m.\u001b[39mzeros((\u001b[38;5;241m52000\u001b[39m,\u001b[38;5;241m1\u001b[39m))\n\u001b[1;32m----> 5\u001b[0m \u001b[43mtorch\u001b[49m\u001b[38;5;241;43m.\u001b[39;49m\u001b[43mstack\u001b[49m\u001b[43m(\u001b[49m\u001b[43m[\u001b[49m\u001b[43ma\u001b[49m\u001b[43m,\u001b[49m\u001b[43mb\u001b[49m\u001b[43m,\u001b[49m\u001b[43mc\u001b[49m\u001b[43m]\u001b[49m\u001b[43m,\u001b[49m\u001b[43m \u001b[49m\u001b[43mdim\u001b[49m\u001b[38;5;241;43m=\u001b[39;49m\u001b[38;5;241;43m1\u001b[39;49m\u001b[43m)\u001b[49m\u001b[38;5;241m.\u001b[39mshape\n",
      "\u001b[1;31mRuntimeError\u001b[0m: stack expects each tensor to be equal size, but got [52000, 5] at entry 0 and [52000, 1] at entry 1"
     ]
    }
   ],
   "source": [
    "a = torch.zeros((52000,5))\n",
    "b = torch.zeros((52000,1))\n",
    "c = torch.zeros((52000,1))\n",
    "\n",
    "torch.stack([a,b,c], dim=1).shape"
   ]
  },
  {
   "cell_type": "code",
   "execution_count": null,
   "id": "73251af0",
   "metadata": {},
   "outputs": [],
   "source": [
    "a = torch.zeros((3,52000,6))"
   ]
  },
  {
   "cell_type": "code",
   "execution_count": null,
   "id": "274b1581",
   "metadata": {},
   "outputs": [
    {
     "data": {
      "text/plain": [
       "torch.Size([3, 52000, 6])"
      ]
     },
     "execution_count": 64,
     "metadata": {},
     "output_type": "execute_result"
    }
   ],
   "source": [
    "a[:,:,-1].shape"
   ]
  }
 ],
 "metadata": {
  "kernelspec": {
   "display_name": "Passneox",
   "language": "python",
   "name": "python3"
  },
  "language_info": {
   "codemirror_mode": {
    "name": "ipython",
    "version": 3
   },
   "file_extension": ".py",
   "mimetype": "text/x-python",
   "name": "python",
   "nbconvert_exporter": "python",
   "pygments_lexer": "ipython3",
   "version": "3.10.12"
  }
 },
 "nbformat": 4,
 "nbformat_minor": 5
}
